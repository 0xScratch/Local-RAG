{
 "cells": [
  {
   "cell_type": "code",
   "execution_count": 2,
   "id": "c7022aa4-6f8e-49c1-a4a5-e6cce54cd710",
   "metadata": {},
   "outputs": [
    {
     "name": "stdout",
     "output_type": "stream",
     "text": [
      "Requirement already satisfied: langchain-community in e:\\chain\\bootcamps\\decentralized_ai_bootcamp\\local-rag\\venv\\lib\\site-packages (0.3.24)\n",
      "Requirement already satisfied: pypdf in e:\\chain\\bootcamps\\decentralized_ai_bootcamp\\local-rag\\venv\\lib\\site-packages (5.5.0)\n",
      "Requirement already satisfied: langchain-core<1.0.0,>=0.3.59 in e:\\chain\\bootcamps\\decentralized_ai_bootcamp\\local-rag\\venv\\lib\\site-packages (from langchain-community) (0.3.60)\n",
      "Requirement already satisfied: langchain<1.0.0,>=0.3.25 in e:\\chain\\bootcamps\\decentralized_ai_bootcamp\\local-rag\\venv\\lib\\site-packages (from langchain-community) (0.3.25)\n",
      "Requirement already satisfied: SQLAlchemy<3,>=1.4 in e:\\chain\\bootcamps\\decentralized_ai_bootcamp\\local-rag\\venv\\lib\\site-packages (from langchain-community) (2.0.41)\n",
      "Requirement already satisfied: requests<3,>=2 in e:\\chain\\bootcamps\\decentralized_ai_bootcamp\\local-rag\\venv\\lib\\site-packages (from langchain-community) (2.32.3)\n",
      "Requirement already satisfied: PyYAML>=5.3 in e:\\chain\\bootcamps\\decentralized_ai_bootcamp\\local-rag\\venv\\lib\\site-packages (from langchain-community) (6.0.2)\n",
      "Requirement already satisfied: aiohttp<4.0.0,>=3.8.3 in e:\\chain\\bootcamps\\decentralized_ai_bootcamp\\local-rag\\venv\\lib\\site-packages (from langchain-community) (3.11.18)\n",
      "Requirement already satisfied: tenacity!=8.4.0,<10,>=8.1.0 in e:\\chain\\bootcamps\\decentralized_ai_bootcamp\\local-rag\\venv\\lib\\site-packages (from langchain-community) (9.1.2)\n",
      "Requirement already satisfied: dataclasses-json<0.7,>=0.5.7 in e:\\chain\\bootcamps\\decentralized_ai_bootcamp\\local-rag\\venv\\lib\\site-packages (from langchain-community) (0.6.7)\n",
      "Requirement already satisfied: pydantic-settings<3.0.0,>=2.4.0 in e:\\chain\\bootcamps\\decentralized_ai_bootcamp\\local-rag\\venv\\lib\\site-packages (from langchain-community) (2.9.1)\n",
      "Requirement already satisfied: langsmith<0.4,>=0.1.125 in e:\\chain\\bootcamps\\decentralized_ai_bootcamp\\local-rag\\venv\\lib\\site-packages (from langchain-community) (0.3.42)\n",
      "Requirement already satisfied: httpx-sse<1.0.0,>=0.4.0 in e:\\chain\\bootcamps\\decentralized_ai_bootcamp\\local-rag\\venv\\lib\\site-packages (from langchain-community) (0.4.0)\n",
      "Requirement already satisfied: numpy>=2.1.0 in e:\\chain\\bootcamps\\decentralized_ai_bootcamp\\local-rag\\venv\\lib\\site-packages (from langchain-community) (2.2.6)\n",
      "Requirement already satisfied: aiohappyeyeballs>=2.3.0 in e:\\chain\\bootcamps\\decentralized_ai_bootcamp\\local-rag\\venv\\lib\\site-packages (from aiohttp<4.0.0,>=3.8.3->langchain-community) (2.6.1)\n",
      "Requirement already satisfied: aiosignal>=1.1.2 in e:\\chain\\bootcamps\\decentralized_ai_bootcamp\\local-rag\\venv\\lib\\site-packages (from aiohttp<4.0.0,>=3.8.3->langchain-community) (1.3.2)\n",
      "Requirement already satisfied: attrs>=17.3.0 in e:\\chain\\bootcamps\\decentralized_ai_bootcamp\\local-rag\\venv\\lib\\site-packages (from aiohttp<4.0.0,>=3.8.3->langchain-community) (25.3.0)\n",
      "Requirement already satisfied: frozenlist>=1.1.1 in e:\\chain\\bootcamps\\decentralized_ai_bootcamp\\local-rag\\venv\\lib\\site-packages (from aiohttp<4.0.0,>=3.8.3->langchain-community) (1.6.0)\n",
      "Requirement already satisfied: multidict<7.0,>=4.5 in e:\\chain\\bootcamps\\decentralized_ai_bootcamp\\local-rag\\venv\\lib\\site-packages (from aiohttp<4.0.0,>=3.8.3->langchain-community) (6.4.3)\n",
      "Requirement already satisfied: propcache>=0.2.0 in e:\\chain\\bootcamps\\decentralized_ai_bootcamp\\local-rag\\venv\\lib\\site-packages (from aiohttp<4.0.0,>=3.8.3->langchain-community) (0.3.1)\n",
      "Requirement already satisfied: yarl<2.0,>=1.17.0 in e:\\chain\\bootcamps\\decentralized_ai_bootcamp\\local-rag\\venv\\lib\\site-packages (from aiohttp<4.0.0,>=3.8.3->langchain-community) (1.20.0)\n",
      "Requirement already satisfied: marshmallow<4.0.0,>=3.18.0 in e:\\chain\\bootcamps\\decentralized_ai_bootcamp\\local-rag\\venv\\lib\\site-packages (from dataclasses-json<0.7,>=0.5.7->langchain-community) (3.26.1)\n",
      "Requirement already satisfied: typing-inspect<1,>=0.4.0 in e:\\chain\\bootcamps\\decentralized_ai_bootcamp\\local-rag\\venv\\lib\\site-packages (from dataclasses-json<0.7,>=0.5.7->langchain-community) (0.9.0)\n",
      "Requirement already satisfied: langchain-text-splitters<1.0.0,>=0.3.8 in e:\\chain\\bootcamps\\decentralized_ai_bootcamp\\local-rag\\venv\\lib\\site-packages (from langchain<1.0.0,>=0.3.25->langchain-community) (0.3.8)\n",
      "Requirement already satisfied: pydantic<3.0.0,>=2.7.4 in e:\\chain\\bootcamps\\decentralized_ai_bootcamp\\local-rag\\venv\\lib\\site-packages (from langchain<1.0.0,>=0.3.25->langchain-community) (2.11.4)\n",
      "Requirement already satisfied: jsonpatch<2.0,>=1.33 in e:\\chain\\bootcamps\\decentralized_ai_bootcamp\\local-rag\\venv\\lib\\site-packages (from langchain-core<1.0.0,>=0.3.59->langchain-community) (1.33)\n",
      "Requirement already satisfied: packaging<25,>=23.2 in e:\\chain\\bootcamps\\decentralized_ai_bootcamp\\local-rag\\venv\\lib\\site-packages (from langchain-core<1.0.0,>=0.3.59->langchain-community) (24.2)\n",
      "Requirement already satisfied: typing-extensions>=4.7 in e:\\chain\\bootcamps\\decentralized_ai_bootcamp\\local-rag\\venv\\lib\\site-packages (from langchain-core<1.0.0,>=0.3.59->langchain-community) (4.13.2)\n",
      "Requirement already satisfied: jsonpointer>=1.9 in e:\\chain\\bootcamps\\decentralized_ai_bootcamp\\local-rag\\venv\\lib\\site-packages (from jsonpatch<2.0,>=1.33->langchain-core<1.0.0,>=0.3.59->langchain-community) (3.0.0)\n",
      "Requirement already satisfied: httpx<1,>=0.23.0 in e:\\chain\\bootcamps\\decentralized_ai_bootcamp\\local-rag\\venv\\lib\\site-packages (from langsmith<0.4,>=0.1.125->langchain-community) (0.28.1)\n",
      "Requirement already satisfied: orjson<4.0.0,>=3.9.14 in e:\\chain\\bootcamps\\decentralized_ai_bootcamp\\local-rag\\venv\\lib\\site-packages (from langsmith<0.4,>=0.1.125->langchain-community) (3.10.18)\n",
      "Requirement already satisfied: requests-toolbelt<2.0.0,>=1.0.0 in e:\\chain\\bootcamps\\decentralized_ai_bootcamp\\local-rag\\venv\\lib\\site-packages (from langsmith<0.4,>=0.1.125->langchain-community) (1.0.0)\n",
      "Requirement already satisfied: zstandard<0.24.0,>=0.23.0 in e:\\chain\\bootcamps\\decentralized_ai_bootcamp\\local-rag\\venv\\lib\\site-packages (from langsmith<0.4,>=0.1.125->langchain-community) (0.23.0)\n",
      "Requirement already satisfied: anyio in e:\\chain\\bootcamps\\decentralized_ai_bootcamp\\local-rag\\venv\\lib\\site-packages (from httpx<1,>=0.23.0->langsmith<0.4,>=0.1.125->langchain-community) (4.9.0)\n",
      "Requirement already satisfied: certifi in e:\\chain\\bootcamps\\decentralized_ai_bootcamp\\local-rag\\venv\\lib\\site-packages (from httpx<1,>=0.23.0->langsmith<0.4,>=0.1.125->langchain-community) (2025.4.26)\n",
      "Requirement already satisfied: httpcore==1.* in e:\\chain\\bootcamps\\decentralized_ai_bootcamp\\local-rag\\venv\\lib\\site-packages (from httpx<1,>=0.23.0->langsmith<0.4,>=0.1.125->langchain-community) (1.0.9)\n",
      "Requirement already satisfied: idna in e:\\chain\\bootcamps\\decentralized_ai_bootcamp\\local-rag\\venv\\lib\\site-packages (from httpx<1,>=0.23.0->langsmith<0.4,>=0.1.125->langchain-community) (3.10)\n",
      "Requirement already satisfied: h11>=0.16 in e:\\chain\\bootcamps\\decentralized_ai_bootcamp\\local-rag\\venv\\lib\\site-packages (from httpcore==1.*->httpx<1,>=0.23.0->langsmith<0.4,>=0.1.125->langchain-community) (0.16.0)\n",
      "Requirement already satisfied: annotated-types>=0.6.0 in e:\\chain\\bootcamps\\decentralized_ai_bootcamp\\local-rag\\venv\\lib\\site-packages (from pydantic<3.0.0,>=2.7.4->langchain<1.0.0,>=0.3.25->langchain-community) (0.7.0)\n",
      "Requirement already satisfied: pydantic-core==2.33.2 in e:\\chain\\bootcamps\\decentralized_ai_bootcamp\\local-rag\\venv\\lib\\site-packages (from pydantic<3.0.0,>=2.7.4->langchain<1.0.0,>=0.3.25->langchain-community) (2.33.2)\n",
      "Requirement already satisfied: typing-inspection>=0.4.0 in e:\\chain\\bootcamps\\decentralized_ai_bootcamp\\local-rag\\venv\\lib\\site-packages (from pydantic<3.0.0,>=2.7.4->langchain<1.0.0,>=0.3.25->langchain-community) (0.4.0)\n",
      "Requirement already satisfied: python-dotenv>=0.21.0 in e:\\chain\\bootcamps\\decentralized_ai_bootcamp\\local-rag\\venv\\lib\\site-packages (from pydantic-settings<3.0.0,>=2.4.0->langchain-community) (1.1.0)\n",
      "Requirement already satisfied: charset-normalizer<4,>=2 in e:\\chain\\bootcamps\\decentralized_ai_bootcamp\\local-rag\\venv\\lib\\site-packages (from requests<3,>=2->langchain-community) (3.4.2)\n",
      "Requirement already satisfied: urllib3<3,>=1.21.1 in e:\\chain\\bootcamps\\decentralized_ai_bootcamp\\local-rag\\venv\\lib\\site-packages (from requests<3,>=2->langchain-community) (2.4.0)\n",
      "Requirement already satisfied: greenlet>=1 in e:\\chain\\bootcamps\\decentralized_ai_bootcamp\\local-rag\\venv\\lib\\site-packages (from SQLAlchemy<3,>=1.4->langchain-community) (3.2.2)\n",
      "Requirement already satisfied: mypy-extensions>=0.3.0 in e:\\chain\\bootcamps\\decentralized_ai_bootcamp\\local-rag\\venv\\lib\\site-packages (from typing-inspect<1,>=0.4.0->dataclasses-json<0.7,>=0.5.7->langchain-community) (1.1.0)\n",
      "Requirement already satisfied: sniffio>=1.1 in e:\\chain\\bootcamps\\decentralized_ai_bootcamp\\local-rag\\venv\\lib\\site-packages (from anyio->httpx<1,>=0.23.0->langsmith<0.4,>=0.1.125->langchain-community) (1.3.1)\n",
      "Note: you may need to restart the kernel to use updated packages.\n"
     ]
    }
   ],
   "source": [
    "pip install langchain-community pypdf"
   ]
  },
  {
   "cell_type": "code",
   "execution_count": 3,
   "id": "5c2dea73-d138-47b6-898d-3115e8ed5155",
   "metadata": {},
   "outputs": [
    {
     "name": "stdin",
     "output_type": "stream",
     "text": [
      " ········\n"
     ]
    }
   ],
   "source": [
    "import getpass\n",
    "import os\n",
    "\n",
    "os.environ[\"LANGSMITH_TRACING\"] = \"true\"\n",
    "os.environ[\"LANGSMITH_API_KEY\"] = getpass.getpass()\n",
    "os.environ[\"LANGSMITH_PROJECT\"] = \"semantic_search\""
   ]
  },
  {
   "cell_type": "code",
   "execution_count": 4,
   "id": "2bd26d3e-cbc7-4a6f-8625-b9aa388b85a0",
   "metadata": {},
   "outputs": [],
   "source": [
    "from langchain_core.documents import Document\n",
    "\n",
    "documents = [\n",
    "    Document(\n",
    "        page_content=\"Dogs are great companions, known for their loyalty and friendliness.\",\n",
    "        metadata={\"source\": \"mammal-pets-doc\"},\n",
    "    ),\n",
    "    Document(\n",
    "        page_content=\"Cats are independent pets that often enjoy their own space.\",\n",
    "        metadata={\"source\": \"mammal-pets-doc\"},\n",
    "    ),\n",
    "]"
   ]
  },
  {
   "cell_type": "code",
   "execution_count": 5,
   "id": "ec92dfca-d7cc-442a-a837-6b4244f95729",
   "metadata": {},
   "outputs": [
    {
     "name": "stdout",
     "output_type": "stream",
     "text": [
      "107\n"
     ]
    }
   ],
   "source": [
    "from langchain_community.document_loaders import PyPDFLoader\n",
    "\n",
    "file_path = \"./example_data/nke-10k-2023.pdf\"\n",
    "loader = PyPDFLoader(file_path)\n",
    "\n",
    "docs = loader.load()\n",
    "\n",
    "print(len(docs))"
   ]
  },
  {
   "cell_type": "code",
   "execution_count": 6,
   "id": "01472c9e-3219-45fb-918f-22d9637ffc24",
   "metadata": {},
   "outputs": [
    {
     "name": "stdout",
     "output_type": "stream",
     "text": [
      "Table of Contents\n",
      "UNITED STATES\n",
      "SECURITIES AND EXCHANGE COMMISSION\n",
      "Washington, D.C. 20549\n",
      "FORM 10-K\n",
      "(Mark One)\n",
      "☑  ANNUAL REPORT PURSUANT TO SECTION 13 OR 15(D) OF THE SECURITIES EXCHANGE ACT OF 1934\n",
      "F\n",
      "\n",
      "{'producer': 'EDGRpdf Service w/ EO.Pdf 22.0.40.0', 'creator': 'EDGAR Filing HTML Converter', 'creationdate': '2023-07-20T16:22:00-04:00', 'title': '0000320187-23-000039', 'author': 'EDGAR Online, a division of Donnelley Financial Solutions', 'subject': 'Form 10-K filed on 2023-07-20 for the period ending 2023-05-31', 'keywords': '0000320187-23-000039; ; 10-K', 'moddate': '2023-07-20T16:22:08-04:00', 'source': './example_data/nke-10k-2023.pdf', 'total_pages': 107, 'page': 0, 'page_label': '1'}\n"
     ]
    }
   ],
   "source": [
    "print(f\"{docs[0].page_content[:200]}\\n\")\n",
    "print(docs[0].metadata)"
   ]
  },
  {
   "cell_type": "code",
   "execution_count": 7,
   "id": "ae9ec210-2ec4-420d-8ecb-0a6b79fa9f35",
   "metadata": {},
   "outputs": [
    {
     "data": {
      "text/plain": [
       "516"
      ]
     },
     "execution_count": 7,
     "metadata": {},
     "output_type": "execute_result"
    }
   ],
   "source": [
    "from langchain_text_splitters import RecursiveCharacterTextSplitter\n",
    "\n",
    "text_splitter = RecursiveCharacterTextSplitter(\n",
    "    chunk_size=1000, chunk_overlap=200, add_start_index=True\n",
    ")\n",
    "all_splits = text_splitter.split_documents(docs)\n",
    "\n",
    "len(all_splits)"
   ]
  },
  {
   "cell_type": "code",
   "execution_count": 8,
   "id": "569129f0-42d1-4ad0-9bcd-5112e5d1f788",
   "metadata": {},
   "outputs": [
    {
     "name": "stdout",
     "output_type": "stream",
     "text": [
      "Note: you may need to restart the kernel to use updated packages.\n"
     ]
    }
   ],
   "source": [
    "pip install -qU langchain-ollama"
   ]
  },
  {
   "cell_type": "code",
   "execution_count": 9,
   "id": "215d9c16-123d-4938-a7d9-20570ec770e6",
   "metadata": {},
   "outputs": [],
   "source": [
    "from langchain_ollama import OllamaEmbeddings\n",
    "\n",
    "embeddings = OllamaEmbeddings(model=\"llama3\")"
   ]
  },
  {
   "cell_type": "code",
   "execution_count": 10,
   "id": "846c0129-0b35-4d80-b056-c73acb1e4504",
   "metadata": {},
   "outputs": [
    {
     "name": "stdout",
     "output_type": "stream",
     "text": [
      "Generated vectors of length 4096\n",
      "\n",
      "[-0.0045971535, -0.028713051, -0.013401889, 0.0038865888, -0.005400139, -0.025057498, -0.006401032, -0.006304333, -0.034139734, -0.00071351713]\n"
     ]
    }
   ],
   "source": [
    "vector_1 = embeddings.embed_query(all_splits[0].page_content)\n",
    "vector_2 = embeddings.embed_query(all_splits[1].page_content)\n",
    "\n",
    "assert len(vector_1) == len(vector_2)\n",
    "print(f\"Generated vectors of length {len(vector_1)}\\n\")\n",
    "print(vector_1[:10])"
   ]
  },
  {
   "cell_type": "code",
   "execution_count": 11,
   "id": "fcfacd5b-b17c-456c-b05d-232a13d6412f",
   "metadata": {},
   "outputs": [
    {
     "name": "stdout",
     "output_type": "stream",
     "text": [
      "Note: you may need to restart the kernel to use updated packages.\n"
     ]
    }
   ],
   "source": [
    "pip install -qU langchain-chroma"
   ]
  },
  {
   "cell_type": "code",
   "execution_count": 12,
   "id": "23efa315-a2f1-42d6-bed6-8820ba358a33",
   "metadata": {},
   "outputs": [],
   "source": [
    "from langchain_chroma import Chroma\n",
    "\n",
    "vector_store = Chroma(\n",
    "    collection_name=\"example_collection\",\n",
    "    embedding_function=embeddings,\n",
    "    persist_directory=\"./chroma/chroma_langchain_db\",  # Where to save data locally, remove if not necessary\n",
    ")"
   ]
  },
  {
   "cell_type": "code",
   "execution_count": 13,
   "id": "212911de-5663-4e9f-a417-cc0b9edd4b0c",
   "metadata": {},
   "outputs": [],
   "source": [
    "ids = vector_store.add_documents(documents=all_splits)"
   ]
  },
  {
   "cell_type": "code",
   "execution_count": 14,
   "id": "7ec57e8c-d658-46bd-8c85-5ac6ce4163fe",
   "metadata": {},
   "outputs": [
    {
     "name": "stdout",
     "output_type": "stream",
     "text": [
      "page_content='Table of Contents\n",
      "INTERNATIONAL MARKETS\n",
      "For fiscal 2023, non-U.S. NIKE Brand and Converse sales accounted for approximately 57% of total revenues, compared to 60% and 61% for fiscal 2022 and fiscal 2021,\n",
      "respectively. We sell our products to retail accounts through our own NIKE Direct operations and through a mix of independent distributors, licensees and sales\n",
      "representatives around the world. We sell to thousands of retail accounts and ship products from 67 distribution centers outside of the United States. Refer to Item 2.\n",
      "Properties for further information on distribution facilities outside of the United States. During fiscal 2023, NIKE's three largest customers outside of the United States\n",
      "accounted for approximately 14% of total non-U.S. sales.\n",
      "In addition to NIKE-owned and Converse-owned digital commerce platforms in over 40 countries, our NIKE Direct and Converse direct to consumer businesses operate\n",
      "the following number of retail stores outside the United States:' metadata={'page_label': '6', 'source': './example_data/nke-10k-2023.pdf', 'title': '0000320187-23-000039', 'keywords': '0000320187-23-000039; ; 10-K', 'producer': 'EDGRpdf Service w/ EO.Pdf 22.0.40.0', 'subject': 'Form 10-K filed on 2023-07-20 for the period ending 2023-05-31', 'author': 'EDGAR Online, a division of Donnelley Financial Solutions', 'start_index': 0, 'page': 5, 'creationdate': '2023-07-20T16:22:00-04:00', 'moddate': '2023-07-20T16:22:08-04:00', 'total_pages': 107, 'creator': 'EDGAR Filing HTML Converter'}\n"
     ]
    }
   ],
   "source": [
    "results = vector_store.similarity_search(\n",
    "    \"How many distribution centers does Nike have in the US?\"\n",
    ")\n",
    "\n",
    "print(results[0])"
   ]
  },
  {
   "cell_type": "code",
   "execution_count": 15,
   "id": "d5e2d70f-1698-445b-897c-3ff01430af27",
   "metadata": {},
   "outputs": [
    {
     "name": "stdout",
     "output_type": "stream",
     "text": [
      "page_content='Table of Contents\n",
      "INTERNATIONAL MARKETS\n",
      "For fiscal 2023, non-U.S. NIKE Brand and Converse sales accounted for approximately 57% of total revenues, compared to 60% and 61% for fiscal 2022 and fiscal 2021,\n",
      "respectively. We sell our products to retail accounts through our own NIKE Direct operations and through a mix of independent distributors, licensees and sales\n",
      "representatives around the world. We sell to thousands of retail accounts and ship products from 67 distribution centers outside of the United States. Refer to Item 2.\n",
      "Properties for further information on distribution facilities outside of the United States. During fiscal 2023, NIKE's three largest customers outside of the United States\n",
      "accounted for approximately 14% of total non-U.S. sales.\n",
      "In addition to NIKE-owned and Converse-owned digital commerce platforms in over 40 countries, our NIKE Direct and Converse direct to consumer businesses operate\n",
      "the following number of retail stores outside the United States:' metadata={'creator': 'EDGAR Filing HTML Converter', 'title': '0000320187-23-000039', 'producer': 'EDGRpdf Service w/ EO.Pdf 22.0.40.0', 'creationdate': '2023-07-20T16:22:00-04:00', 'start_index': 0, 'total_pages': 107, 'moddate': '2023-07-20T16:22:08-04:00', 'subject': 'Form 10-K filed on 2023-07-20 for the period ending 2023-05-31', 'keywords': '0000320187-23-000039; ; 10-K', 'author': 'EDGAR Online, a division of Donnelley Financial Solutions', 'source': './example_data/nke-10k-2023.pdf', 'page': 5, 'page_label': '6'}\n"
     ]
    }
   ],
   "source": [
    "results = await vector_store.asimilarity_search(\"When was Nike incorporated?\")\n",
    "\n",
    "print(results[0])"
   ]
  },
  {
   "cell_type": "code",
   "execution_count": 16,
   "id": "2be8010e-4e6e-4c44-a2d6-63e2a4cf8288",
   "metadata": {},
   "outputs": [
    {
     "name": "stdout",
     "output_type": "stream",
     "text": [
      "Score: 0.708548903465271\n",
      "\n",
      "page_content='Table of Contents\n",
      "INTERNATIONAL MARKETS\n",
      "For fiscal 2023, non-U.S. NIKE Brand and Converse sales accounted for approximately 57% of total revenues, compared to 60% and 61% for fiscal 2022 and fiscal 2021,\n",
      "respectively. We sell our products to retail accounts through our own NIKE Direct operations and through a mix of independent distributors, licensees and sales\n",
      "representatives around the world. We sell to thousands of retail accounts and ship products from 67 distribution centers outside of the United States. Refer to Item 2.\n",
      "Properties for further information on distribution facilities outside of the United States. During fiscal 2023, NIKE's three largest customers outside of the United States\n",
      "accounted for approximately 14% of total non-U.S. sales.\n",
      "In addition to NIKE-owned and Converse-owned digital commerce platforms in over 40 countries, our NIKE Direct and Converse direct to consumer businesses operate\n",
      "the following number of retail stores outside the United States:' metadata={'producer': 'EDGRpdf Service w/ EO.Pdf 22.0.40.0', 'start_index': 0, 'creator': 'EDGAR Filing HTML Converter', 'moddate': '2023-07-20T16:22:08-04:00', 'creationdate': '2023-07-20T16:22:00-04:00', 'total_pages': 107, 'page': 5, 'author': 'EDGAR Online, a division of Donnelley Financial Solutions', 'page_label': '6', 'keywords': '0000320187-23-000039; ; 10-K', 'source': './example_data/nke-10k-2023.pdf', 'subject': 'Form 10-K filed on 2023-07-20 for the period ending 2023-05-31', 'title': '0000320187-23-000039'}\n"
     ]
    }
   ],
   "source": [
    "# Note that providers implement different scores; the score here\n",
    "# is a distance metric that varies inversely with similarity.\n",
    "\n",
    "results = vector_store.similarity_search_with_score(\"What was Nike's revenue in 2023?\")\n",
    "doc, score = results[0]\n",
    "print(f\"Score: {score}\\n\")\n",
    "print(doc)"
   ]
  },
  {
   "cell_type": "code",
   "execution_count": 17,
   "id": "ee17cf72-c17f-475d-ba01-b51035b0b933",
   "metadata": {},
   "outputs": [
    {
     "name": "stdout",
     "output_type": "stream",
     "text": [
      "page_content='In recent years, uncertain global and regional economic and political conditions have affected international trade and increased protectionist actions around the\n",
      "world. These trends are affecting many global manufacturing and service sectors, and the footwear and apparel industries, as a whole, are not immune. Companies in our\n",
      "industry are facing trade protectionism in many different regions, and, in nearly all cases, we are working together with industry groups to address trade issues and reduce\n",
      "the impact to the industry, while observing applicable competition laws. Notwithstanding our efforts, protectionist measures have resulted in increases in the cost of our\n",
      "products, and additional measures, if implemented, could adversely affect sales and/or profitability for NIKE, as well as the imported footwear and apparel industry as a\n",
      "whole.' metadata={'creationdate': '2023-07-20T16:22:00-04:00', 'start_index': 2900, 'page': 6, 'author': 'EDGAR Online, a division of Donnelley Financial Solutions', 'subject': 'Form 10-K filed on 2023-07-20 for the period ending 2023-05-31', 'source': './example_data/nke-10k-2023.pdf', 'creator': 'EDGAR Filing HTML Converter', 'producer': 'EDGRpdf Service w/ EO.Pdf 22.0.40.0', 'title': '0000320187-23-000039', 'moddate': '2023-07-20T16:22:08-04:00', 'total_pages': 107, 'page_label': '7', 'keywords': '0000320187-23-000039; ; 10-K'}\n"
     ]
    }
   ],
   "source": [
    "embedding = embeddings.embed_query(\"How were Nike's margins impacted in 2023?\")\n",
    "\n",
    "results = vector_store.similarity_search_by_vector(embedding)\n",
    "print(results[0])"
   ]
  },
  {
   "cell_type": "code",
   "execution_count": null,
   "id": "333613ed-abbc-418a-9a53-2a9038c7e4fd",
   "metadata": {},
   "outputs": [],
   "source": []
  }
 ],
 "metadata": {
  "kernelspec": {
   "display_name": "Python 3 (ipykernel)",
   "language": "python",
   "name": "python3"
  },
  "language_info": {
   "codemirror_mode": {
    "name": "ipython",
    "version": 3
   },
   "file_extension": ".py",
   "mimetype": "text/x-python",
   "name": "python",
   "nbconvert_exporter": "python",
   "pygments_lexer": "ipython3",
   "version": "3.13.1"
  }
 },
 "nbformat": 4,
 "nbformat_minor": 5
}
